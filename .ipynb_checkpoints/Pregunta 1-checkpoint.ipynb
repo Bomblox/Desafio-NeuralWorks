{
 "cells": [
  {
   "cell_type": "markdown",
   "id": "eb5d9089",
   "metadata": {},
   "source": [
    "### 1. Escoge el modelo que a tu criterio tenga una mejor performance, argumentando tu decisión."
   ]
  },
  {
   "cell_type": "markdown",
   "id": "46abe7c6",
   "metadata": {},
   "source": [
    "###### Asumiendo según lo que entendí del texto es que la clase minoritaria es la de \"atraso\" por lo tanto si pensamos en la búsqueda de un mejor modelo, debemos evaluar en qué sería más costoso para nuestro cliente al equivocarnos. Si \"Decirle que su vuelo se va a atrasar cuando en verdad no lo hará\" (error tipo 1) o \"No avisarle que un vuelo se va a atrasar cuando la verdad es que si se atrasó\" (error tipo 2). \n",
    "###### Para este caso particular es más grave equivocarse al no predecir correctamente un retraso en un vuelo y no avisar a los pasajeros sobre el mismo. Esto se debe a que los pasajeros confían en la información proporcionada por la aerolínea y planifican sus viajes en función de esos horarios. Si la aerolínea no advierte de un retraso y los pasajeros llegan al aeropuerto según lo programado, pueden experimentar inconvenientes significativos, como perder conexiones, perder reuniones importantes o compromisos personales.\n",
    "###### Por otro lado, si la aerolínea predice incorrectamente un retraso en un vuelo que finalmente sale puntualmente, puede causar cierta incomodidad a los pasajeros, pero es menos problemático en comparación con no avisar de un retraso real. Los pasajeros pueden ajustar su tiempo de espera en el aeropuerto, pero aún podrán realizar su viaje según lo planeado.\n",
    "###### Dicho esto escogería el modelo de XGBoost después del GridSearch debido a que nuestro objetivo principal es obtener el mejor recall posible debido a la importancia de la clase positiva"
   ]
  }
 ],
 "metadata": {
  "kernelspec": {
   "display_name": "Python 3 (ipykernel)",
   "language": "python",
   "name": "python3"
  },
  "language_info": {
   "codemirror_mode": {
    "name": "ipython",
    "version": 3
   },
   "file_extension": ".py",
   "mimetype": "text/x-python",
   "name": "python",
   "nbconvert_exporter": "python",
   "pygments_lexer": "ipython3",
   "version": "3.9.13"
  }
 },
 "nbformat": 4,
 "nbformat_minor": 5
}
