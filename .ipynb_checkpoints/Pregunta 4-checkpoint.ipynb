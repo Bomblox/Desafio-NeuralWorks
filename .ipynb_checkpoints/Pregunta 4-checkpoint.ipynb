{
 "cells": [
  {
   "cell_type": "markdown",
   "id": "e2c69174",
   "metadata": {},
   "source": [
    "### **4. Automatiza el proceso de build y deploy de la API, utilizando uno o varios servicios cloud. Argumenta tu decisión sobre los servicios utilizados.**"
   ]
  },
  {
   "cell_type": "markdown",
   "id": "d5264aef",
   "metadata": {},
   "source": [
    "Opté por utilizar Heroku como plataforma de despliegue para mi API 'FormatoPáginaWeb', la cual utiliza un modelo de XGBoost.\n",
    "\n",
    "La elección de Heroku como servicio en la nube se basó en varios factores. En primer lugar, es una plataforma fácil de usar y ofrece una integración fluida con Python, lo cual es importante en mi caso. También tuve en cuenta sus opciones de escalado, confiabilidad y administración simplificada.  \n",
    "\n",
    "Además, tengo la capacidad de escalar mi aplicación de forma automática. Esto es especialmente importante cuando se trata de un modelo de XGBoost, ya que puede haber un alto volumen de solicitudes simultáneas. Con Heroku, puedo confiar en que mi API estará disponible y funcionando sin interrupciones, gracias a su infraestructura confiable y de alta disponibilidad. Esto me permite enfocarme en el desarrollo y mejora de mi aplicación, sin tener que preocuparme por la infraestructura subyacente."
   ]
  },
  {
   "cell_type": "markdown",
   "id": "a43ce33f",
   "metadata": {},
   "source": [
    "Esta es la URL disponible para utilizar la API:\n",
    "**https://web-atrasos-74fd3611640e.herokuapp.com/**"
   ]
  }
 ],
 "metadata": {
  "kernelspec": {
   "display_name": "Python 3 (ipykernel)",
   "language": "python",
   "name": "python3"
  },
  "language_info": {
   "codemirror_mode": {
    "name": "ipython",
    "version": 3
   },
   "file_extension": ".py",
   "mimetype": "text/x-python",
   "name": "python",
   "nbconvert_exporter": "python",
   "pygments_lexer": "ipython3",
   "version": "3.9.13"
  }
 },
 "nbformat": 4,
 "nbformat_minor": 5
}
