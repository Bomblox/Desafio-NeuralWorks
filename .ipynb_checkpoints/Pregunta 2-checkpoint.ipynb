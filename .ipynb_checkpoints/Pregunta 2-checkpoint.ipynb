{
 "cells": [
  {
   "cell_type": "markdown",
   "id": "413d2d96",
   "metadata": {},
   "source": [
    "### 2. Implementa cambios sobre el modelo escogiendo la o las técnicas que prefieras buscando mejorar los resultados. Te recomendamos dejar los intentos que no lograron mejorar los resultados. "
   ]
  },
  {
   "cell_type": "code",
   "execution_count": 44,
   "id": "aad8d3b8",
   "metadata": {},
   "outputs": [],
   "source": [
    "#Se importan las librerías necesarias para el problema\n",
    "import pandas as pd\n",
    "import numpy as np\n",
    "import matplotlib.pyplot as plt\n",
    "import seaborn as sns"
   ]
  },
  {
   "cell_type": "code",
   "execution_count": 45,
   "id": "c06f90f4",
   "metadata": {},
   "outputs": [
    {
     "name": "stderr",
     "output_type": "stream",
     "text": [
      "C:\\Users\\activ\\AppData\\Local\\Temp\\ipykernel_15728\\3467307737.py:1: DtypeWarning: Columns (1,6) have mixed types. Specify dtype option on import or set low_memory=False.\n",
      "  df = pd.read_csv('dataset_SCL.csv')\n"
     ]
    }
   ],
   "source": [
    "df = pd.read_csv('dataset_SCL.csv')"
   ]
  },
  {
   "cell_type": "code",
   "execution_count": 46,
   "id": "39a1b367",
   "metadata": {
    "id": "m_-_TJC2jJkH"
   },
   "outputs": [],
   "source": [
    "from datetime import datetime\n",
    "\n",
    "def temporada_alta(fecha):\n",
    "    fecha_año = int(fecha.split('-')[0])\n",
    "    fecha = datetime.strptime(fecha, '%Y-%m-%d %H:%M:%S')\n",
    "    range1_min = datetime.strptime('15-Dec', '%d-%b').replace(year = fecha_año)\n",
    "    range1_max = datetime.strptime('31-Dec', '%d-%b').replace(year = fecha_año)\n",
    "    range2_min = datetime.strptime('1-Jan', '%d-%b').replace(year = fecha_año)\n",
    "    range2_max = datetime.strptime('3-Mar', '%d-%b').replace(year = fecha_año)\n",
    "    range3_min = datetime.strptime('15-Jul', '%d-%b').replace(year = fecha_año)\n",
    "    range3_max = datetime.strptime('31-Jul', '%d-%b').replace(year = fecha_año)\n",
    "    range4_min = datetime.strptime('11-Sep', '%d-%b').replace(year = fecha_año)\n",
    "    range4_max = datetime.strptime('30-Sep', '%d-%b').replace(year = fecha_año)\n",
    "\n",
    "    if ((fecha >= range1_min and fecha <= range1_max) or\n",
    "        (fecha >= range2_min and fecha <= range2_max) or\n",
    "        (fecha >= range3_min and fecha <= range3_max) or\n",
    "        (fecha >= range4_min and fecha <= range4_max)):\n",
    "        return 1\n",
    "    else:\n",
    "        return 0\n"
   ]
  },
  {
   "cell_type": "code",
   "execution_count": 47,
   "id": "be760dab",
   "metadata": {
    "id": "seVivmAFjJkH",
    "scrolled": true
   },
   "outputs": [],
   "source": [
    "df['temporada_alta'] = df['Fecha-I'].apply(temporada_alta)"
   ]
  },
  {
   "cell_type": "markdown",
   "id": "aeeefc8e",
   "metadata": {
    "id": "oucjXNc-jJkI"
   },
   "source": [
    "* **dif_min** : diferencia en minutos entre **Fecha-O** y **Fecha-I** ."
   ]
  },
  {
   "cell_type": "code",
   "execution_count": 49,
   "id": "d8b8ddae",
   "metadata": {
    "id": "pDriPLgkjJkI"
   },
   "outputs": [],
   "source": [
    "def dif_min(data):\n",
    "    fecha_o = datetime.strptime(data['Fecha-O'], '%Y-%m-%d %H:%M:%S')\n",
    "    fecha_i = datetime.strptime(data['Fecha-I'], '%Y-%m-%d %H:%M:%S')\n",
    "    dif_min = ((fecha_o - fecha_i).total_seconds())/60\n",
    "    return dif_min\n"
   ]
  },
  {
   "cell_type": "code",
   "execution_count": 50,
   "id": "86b23328",
   "metadata": {
    "id": "10Ac-nTLjJkI"
   },
   "outputs": [],
   "source": [
    "df['dif_min'] = df.apply(dif_min, axis = 1)"
   ]
  },
  {
   "cell_type": "markdown",
   "id": "83a3060e",
   "metadata": {
    "id": "Ctm3ydCBjJkI"
   },
   "source": [
    "* **atraso_15** : 1 si **dif_min** > 15, 0 si no."
   ]
  },
  {
   "cell_type": "code",
   "execution_count": 51,
   "id": "7663e3ca",
   "metadata": {
    "id": "weeoD1WNjJkI"
   },
   "outputs": [],
   "source": [
    "df['atraso_15'] = np.where(df['dif_min'] > 15, 1, 0)"
   ]
  },
  {
   "cell_type": "code",
   "execution_count": 52,
   "id": "d5ee7c3c",
   "metadata": {
    "id": "jWBNTp2NjJkJ"
   },
   "outputs": [],
   "source": [
    "def get_periodo_dia(fecha):\n",
    "    fecha_time = datetime.strptime(fecha, '%Y-%m-%d %H:%M:%S').time()\n",
    "    mañana_min = datetime.strptime(\"05:00\", '%H:%M').time()\n",
    "    mañana_max = datetime.strptime(\"11:59\", '%H:%M').time()\n",
    "    tarde_min = datetime.strptime(\"12:00\", '%H:%M').time()\n",
    "    tarde_max = datetime.strptime(\"18:59\", '%H:%M').time()\n",
    "    noche_min1 = datetime.strptime(\"19:00\", '%H:%M').time()\n",
    "    noche_max1 = datetime.strptime(\"23:59\", '%H:%M').time()\n",
    "    noche_min2 = datetime.strptime(\"00:00\", '%H:%M').time()\n",
    "    noche_max2 = datetime.strptime(\"4:59\", '%H:%M').time()\n",
    "\n",
    "    if(fecha_time > mañana_min and fecha_time < mañana_max):\n",
    "        return 'mañana'\n",
    "    elif(fecha_time > tarde_min and fecha_time < tarde_max):\n",
    "        return 'tarde'\n",
    "    elif((fecha_time > noche_min1 and fecha_time < noche_max1) or\n",
    "         (fecha_time > noche_min2 and fecha_time < noche_max2)):\n",
    "        return 'noche'"
   ]
  },
  {
   "cell_type": "code",
   "execution_count": 53,
   "id": "a08de398",
   "metadata": {
    "id": "ZcArLaHTjJkJ",
    "jupyter": {
     "outputs_hidden": true
    },
    "outputId": "81a74be0-afc1-4917-fa4e-b0b0658142d5"
   },
   "outputs": [],
   "source": [
    "df['periodo_dia'] = df['Fecha-I'].apply(get_periodo_dia)"
   ]
  },
  {
   "cell_type": "code",
   "execution_count": 54,
   "id": "45de002f",
   "metadata": {
    "id": "S-ry873cjJkJ"
   },
   "outputs": [],
   "source": [
    "df[['temporada_alta','dif_min','atraso_15','periodo_dia']].to_csv('synthetic_features.csv', index = False)"
   ]
  },
  {
   "cell_type": "code",
   "execution_count": 55,
   "id": "1a72d297",
   "metadata": {
    "id": "PDeo5j4qjJkJ"
   },
   "outputs": [],
   "source": [
    "def calcular_tasa(df, columna):\n",
    "\n",
    "    dic_atrasos = {}\n",
    "    for _, row in df.iterrows():\n",
    "        if row['atraso_15'] == 1:\n",
    "            if row[columna] not in dic_atrasos:\n",
    "                dic_atrasos[row[columna]] = 1\n",
    "            else:\n",
    "                dic_atrasos[row[columna]] += 1\n",
    "\n",
    "    total_values = df[columna].value_counts()\n",
    "\n",
    "    dic_tasas = {}\n",
    "    for name, total in total_values.iteritems():\n",
    "        if name in dic_atrasos:\n",
    "            dic_tasas[name] = round(total / dic_atrasos[name], 2)\n",
    "        else:\n",
    "            dic_tasas[name] = 0\n",
    "\n",
    "    return pd.DataFrame.from_dict(data = dic_tasas, orient = 'index', columns = ['Tasa (%)'])"
   ]
  },
  {
   "cell_type": "code",
   "execution_count": 56,
   "id": "46cc0f94",
   "metadata": {
    "id": "U804USTyjJkQ"
   },
   "outputs": [],
   "source": [
    "from sklearn.model_selection import train_test_split\n",
    "from sklearn.utils import shuffle\n",
    "from sklearn.linear_model import LogisticRegression\n",
    "from sklearn.metrics import confusion_matrix, classification_report"
   ]
  },
  {
   "cell_type": "code",
   "execution_count": 57,
   "id": "bf3de41f",
   "metadata": {
    "id": "WwvXhCLNjJkQ"
   },
   "outputs": [],
   "source": [
    "data = shuffle(df[['OPERA', 'MES', 'TIPOVUELO', 'SIGLADES', 'DIANOM', 'atraso_15']], random_state = 111)"
   ]
  },
  {
   "cell_type": "code",
   "execution_count": 58,
   "id": "80c83aa8",
   "metadata": {
    "id": "ygM_LhJVjJkR"
   },
   "outputs": [],
   "source": [
    "features = pd.concat([pd.get_dummies(data['OPERA'], prefix = 'OPERA'),pd.get_dummies(data['TIPOVUELO'], prefix = 'TIPOVUELO'), pd.get_dummies(data['MES'], prefix = 'MES')], axis = 1)\n",
    "label = data['atraso_15']"
   ]
  },
  {
   "cell_type": "code",
   "execution_count": 59,
   "id": "2f7323d2",
   "metadata": {
    "id": "0rOA3xYLjJkR"
   },
   "outputs": [],
   "source": [
    "x_train, x_test, y_train, y_test = train_test_split(features, label, test_size = 0.33, random_state = 42)"
   ]
  },
  {
   "cell_type": "code",
   "execution_count": 60,
   "id": "f813a519",
   "metadata": {
    "id": "4I4eiy4WjJkR",
    "outputId": "0600ea85-2184-43d3-bde5-d6fc3e9c3a6f",
    "scrolled": true
   },
   "outputs": [
    {
     "data": {
      "text/plain": [
       "((45698, 37), (22508, 37))"
      ]
     },
     "execution_count": 60,
     "metadata": {},
     "output_type": "execute_result"
    }
   ],
   "source": [
    "x_train.shape, x_test.shape"
   ]
  },
  {
   "cell_type": "markdown",
   "id": "89796d3f",
   "metadata": {
    "id": "x_fbXDG6jJkW"
   },
   "source": [
    "### Grid Search CV"
   ]
  },
  {
   "cell_type": "markdown",
   "id": "6d7fc0ce",
   "metadata": {},
   "source": [
    "A diferencia del modelo utilizado por Juan de Grid Search, nosotros utilizamos otros parametros para mejorar los resultados cuando tenemos una base de datos desbalanceada\n"
   ]
  },
  {
   "cell_type": "code",
   "execution_count": 84,
   "id": "ee900a57",
   "metadata": {
    "id": "V2a4WxdUjJkW"
   },
   "outputs": [],
   "source": [
    "from sklearn.model_selection import GridSearchCV\n",
    "from xgboost import XGBClassifier"
   ]
  },
  {
   "cell_type": "markdown",
   "id": "4baa3a69",
   "metadata": {},
   "source": [
    "**En primer lugar max_depth y min_child_weight:**\n",
    "1. **max_depth:** controla la profundidad máxima de los árboles de decisión en XGBoost. Al ajustar este hiperparámetro, podemos evitar que los árboles se sobreajusten a la clase mayoritaria y permitirles capturar patrones más relevantes de la clase minoritaria.\n",
    "2. **min_child_weight:** establece la cantidad mínima de instancias requeridas en cada hoja del árbol. Al aumentar este valor, podemos evitar que los árboles se especialicen demasiado en las instancias de la clase mayoritaria y permitir que se aprendan patrones de la clase minoritaria."
   ]
  },
  {
   "cell_type": "code",
   "execution_count": 85,
   "id": "834c2bfd",
   "metadata": {
    "id": "6keO8OMDjJkW",
    "outputId": "de5b9d07-d067-427a-e89b-87b2834323a7",
    "scrolled": true
   },
   "outputs": [
    {
     "data": {
      "text/plain": [
       "({'mean_fit_time': array([ 4.24380689,  4.14041867,  4.07764916,  4.00699959,  9.07586899,\n",
       "         11.04875436, 11.59399953, 12.05137434, 19.56486697, 19.6342205 ,\n",
       "         19.76949005, 20.52924414, 28.22479033, 27.52454009, 27.53674583,\n",
       "         27.3587842 , 36.5643775 , 36.22367306, 37.34584289, 39.79528413]),\n",
       "  'std_fit_time': array([0.01558811, 0.09519966, 0.02232312, 0.05069511, 1.02710082,\n",
       "         0.03159201, 0.45748541, 0.03562407, 0.35085299, 0.48879383,\n",
       "         0.66523667, 0.39238273, 0.29243908, 0.44134975, 0.42534678,\n",
       "         0.09103982, 0.1795288 , 0.90851205, 0.13896183, 1.27228357]),\n",
       "  'mean_score_time': array([0.01599975, 0.01779976, 0.01740036, 0.01660028, 0.03080006,\n",
       "         0.0302002 , 0.02959962, 0.03280063, 0.04852409, 0.04980021,\n",
       "         0.12800145, 0.05059986, 0.06879973, 0.06908202, 0.06820016,\n",
       "         0.06880012, 0.08790274, 0.08981872, 0.09239988, 0.08862181]),\n",
       "  'std_score_time': array([0.00063196, 0.00193882, 0.00149708, 0.00049029, 0.00147013,\n",
       "         0.00183186, 0.00224438, 0.0047486 , 0.00224962, 0.00299384,\n",
       "         0.09930426, 0.00205959, 0.00401876, 0.00354371, 0.0034285 ,\n",
       "         0.00337005, 0.00084785, 0.00430026, 0.00674054, 0.01080095]),\n",
       "  'param_max_depth': masked_array(data=[1, 1, 1, 1, 3, 3, 3, 3, 5, 5, 5, 5, 7, 7, 7, 7, 9, 9,\n",
       "                     9, 9],\n",
       "               mask=[False, False, False, False, False, False, False, False,\n",
       "                     False, False, False, False, False, False, False, False,\n",
       "                     False, False, False, False],\n",
       "         fill_value='?',\n",
       "              dtype=object),\n",
       "  'param_min_child_weight': masked_array(data=[1, 3, 5, 7, 1, 3, 5, 7, 1, 3, 5, 7, 1, 3, 5, 7, 1, 3,\n",
       "                     5, 7],\n",
       "               mask=[False, False, False, False, False, False, False, False,\n",
       "                     False, False, False, False, False, False, False, False,\n",
       "                     False, False, False, False],\n",
       "         fill_value='?',\n",
       "              dtype=object),\n",
       "  'params': [{'max_depth': 1, 'min_child_weight': 1},\n",
       "   {'max_depth': 1, 'min_child_weight': 3},\n",
       "   {'max_depth': 1, 'min_child_weight': 5},\n",
       "   {'max_depth': 1, 'min_child_weight': 7},\n",
       "   {'max_depth': 3, 'min_child_weight': 1},\n",
       "   {'max_depth': 3, 'min_child_weight': 3},\n",
       "   {'max_depth': 3, 'min_child_weight': 5},\n",
       "   {'max_depth': 3, 'min_child_weight': 7},\n",
       "   {'max_depth': 5, 'min_child_weight': 1},\n",
       "   {'max_depth': 5, 'min_child_weight': 3},\n",
       "   {'max_depth': 5, 'min_child_weight': 5},\n",
       "   {'max_depth': 5, 'min_child_weight': 7},\n",
       "   {'max_depth': 7, 'min_child_weight': 1},\n",
       "   {'max_depth': 7, 'min_child_weight': 3},\n",
       "   {'max_depth': 7, 'min_child_weight': 5},\n",
       "   {'max_depth': 7, 'min_child_weight': 7},\n",
       "   {'max_depth': 9, 'min_child_weight': 1},\n",
       "   {'max_depth': 9, 'min_child_weight': 3},\n",
       "   {'max_depth': 9, 'min_child_weight': 5},\n",
       "   {'max_depth': 9, 'min_child_weight': 7}],\n",
       "  'split0_test_score': array([0.66375938, 0.66375938, 0.66396133, 0.66398661, 0.666627  ,\n",
       "         0.6682495 , 0.66985991, 0.66997461, 0.66769537, 0.66914093,\n",
       "         0.67064004, 0.67072128, 0.66756598, 0.66900174, 0.67014255,\n",
       "         0.6707827 , 0.66749892, 0.66891122, 0.66958352, 0.66988468]),\n",
       "  'split1_test_score': array([0.64783452, 0.64783452, 0.64777756, 0.64745721, 0.65052819,\n",
       "         0.65335066, 0.65349751, 0.65384061, 0.65163369, 0.65350383,\n",
       "         0.6535374 , 0.65362267, 0.65079273, 0.65252053, 0.652891  ,\n",
       "         0.65339565, 0.65034935, 0.65186418, 0.65250497, 0.65285755]),\n",
       "  'split2_test_score': array([0.66016804, 0.66016804, 0.65987719, 0.65948602, 0.66291539,\n",
       "         0.66431664, 0.66482732, 0.66539559, 0.65926809, 0.66202397,\n",
       "         0.66276602, 0.66297219, 0.65829782, 0.66129826, 0.66207334,\n",
       "         0.66213661, 0.65819363, 0.66059444, 0.66094564, 0.66131572]),\n",
       "  'split3_test_score': array([0.66170367, 0.66170367, 0.66214186, 0.66145189, 0.67139567,\n",
       "         0.67337408, 0.67403864, 0.6728714 , 0.67060599, 0.67180904,\n",
       "         0.6719419 , 0.6716938 , 0.66996586, 0.67148111, 0.67145914,\n",
       "         0.67148   , 0.66984193, 0.67085259, 0.67120052, 0.67125561]),\n",
       "  'split4_test_score': array([0.66887499, 0.66887499, 0.66845102, 0.66838087, 0.67408223,\n",
       "         0.67611268, 0.6752254 , 0.67525898, 0.67419994, 0.67451856,\n",
       "         0.6738848 , 0.67448625, 0.67288447, 0.67399374, 0.67394737,\n",
       "         0.67397048, 0.67264643, 0.67376479, 0.67391308, 0.6737774 ]),\n",
       "  'mean_test_score': array([0.66046812, 0.66046812, 0.66044179, 0.66015252, 0.6651097 ,\n",
       "         0.66708071, 0.66748976, 0.66746824, 0.66468061, 0.66619926,\n",
       "         0.66655403, 0.66669924, 0.66390137, 0.66565908, 0.66610268,\n",
       "         0.66635309, 0.66370605, 0.66519745, 0.66562955, 0.66581819]),\n",
       "  'std_test_score': array([0.00696753, 0.00696753, 0.00693003, 0.00701013, 0.00824327,\n",
       "         0.00798378, 0.00788945, 0.00756544, 0.00817722, 0.00758869,\n",
       "         0.00752657, 0.00757163, 0.00817483, 0.00782527, 0.00771149,\n",
       "         0.00761059, 0.00825534, 0.00797666, 0.0078674 , 0.00771623]),\n",
       "  'rank_test_score': array([17, 17, 19, 20, 13,  3,  1,  2, 14,  7,  5,  4, 15, 10,  8,  6, 16,\n",
       "         12, 11,  9])},\n",
       " {'max_depth': 3, 'min_child_weight': 5},\n",
       " 0.6674897560221492)"
      ]
     },
     "execution_count": 85,
     "metadata": {},
     "output_type": "execute_result"
    }
   ],
   "source": [
    "param_test1 = {\n",
    "    'max_depth':range(1,10,2),\n",
    "    'min_child_weight':range(1,8,2)\n",
    "}\n",
    "gsearch1 = GridSearchCV(estimator = XGBClassifier(  learning_rate = 0.1,      #0.3\n",
    "                                                    n_estimators=   1000,\n",
    "                                                    gamma=             0,     #0\n",
    "                                                    subsample=         1,     #1\n",
    "                                                    colsample_bytree=  1,     #1\n",
    "                                                    max_depth =        6,     #6\n",
    "                                                    min_child_weight = 1,     #1\n",
    "                                                    max_delta_step =   1,     #1\n",
    "                                                    objective= 'binary:logistic', nthread=4,seed=27), \n",
    "                        param_grid = param_test1, \n",
    "                        scoring='roc_auc',\n",
    "                        n_jobs=4, \n",
    "                        cv=5)\n",
    "\n",
    "gsearch1.fit(x_train,y_train)\n",
    "gsearch1.cv_results_, gsearch1.best_params_, gsearch1.best_score_"
   ]
  },
  {
   "cell_type": "markdown",
   "id": "233ec8d7",
   "metadata": {},
   "source": [
    "**Continuando con gamma:**\n",
    "1. **gamma:** controla la reducción mínima requerida en la función de pérdida para realizar una partición adicional en un nodo del árbol. Al aumentar este valor, el modelo se vuelve más conservador en la creación de nuevas divisiones y evita sobreajustarse a la clase mayoritaria, lo que permite que se aprendan patrones más sutiles de la clase minoritaria."
   ]
  },
  {
   "cell_type": "code",
   "execution_count": 86,
   "id": "97dfc54c",
   "metadata": {},
   "outputs": [
    {
     "data": {
      "text/plain": [
       "({'mean_fit_time': array([10.03086758, 12.29532461, 13.21831665, 14.057373  , 13.28596039,\n",
       "         13.77016821, 13.52072353, 14.46386976, 14.05793076, 12.13501406]),\n",
       "  'std_fit_time': array([1.26491915, 0.19179565, 0.89462992, 0.0833817 , 0.34758362,\n",
       "         0.09520807, 0.17886965, 0.50581502, 0.31993793, 3.01788242]),\n",
       "  'mean_score_time': array([0.02959981, 0.01720128, 0.0156003 , 0.01579933, 0.06462207,\n",
       "         0.01540041, 0.06920319, 0.03019919, 0.01521797, 0.01439924]),\n",
       "  'std_score_time': array([0.00241626, 0.00116694, 0.00080048, 0.00074783, 0.02451515,\n",
       "         0.00080168, 0.05428666, 0.03040594, 0.00076802, 0.00344153]),\n",
       "  'param_gamma': masked_array(data=[0.0, 0.1, 0.2, 0.3, 0.4, 0.5, 0.6, 0.7, 0.8, 0.9],\n",
       "               mask=[False, False, False, False, False, False, False, False,\n",
       "                     False, False],\n",
       "         fill_value='?',\n",
       "              dtype=object),\n",
       "  'params': [{'gamma': 0.0},\n",
       "   {'gamma': 0.1},\n",
       "   {'gamma': 0.2},\n",
       "   {'gamma': 0.3},\n",
       "   {'gamma': 0.4},\n",
       "   {'gamma': 0.5},\n",
       "   {'gamma': 0.6},\n",
       "   {'gamma': 0.7},\n",
       "   {'gamma': 0.8},\n",
       "   {'gamma': 0.9}],\n",
       "  'split0_test_score': array([0.66985991, 0.66956259, 0.6697829 , 0.66978317, 0.670386  ,\n",
       "         0.67064826, 0.67007398, 0.6700275 , 0.67026645, 0.67021933]),\n",
       "  'split1_test_score': array([0.65349751, 0.65100491, 0.650766  , 0.65153198, 0.65022051,\n",
       "         0.65132099, 0.65066133, 0.64961678, 0.64921747, 0.6496932 ]),\n",
       "  'split2_test_score': array([0.66482732, 0.66580919, 0.66606766, 0.66615952, 0.66544314,\n",
       "         0.66699735, 0.66697062, 0.66607184, 0.66679071, 0.66651353]),\n",
       "  'split3_test_score': array([0.67403864, 0.67130825, 0.66923566, 0.66980268, 0.6686963 ,\n",
       "         0.66997858, 0.66946377, 0.66786153, 0.6691275 , 0.66779297]),\n",
       "  'split4_test_score': array([0.6752254 , 0.67522074, 0.6747306 , 0.67429534, 0.67422949,\n",
       "         0.67308754, 0.67291729, 0.67231845, 0.67432536, 0.67343535]),\n",
       "  'mean_test_score': array([0.66748976, 0.66658114, 0.66611656, 0.66631454, 0.66579509,\n",
       "         0.66640655, 0.6660174 , 0.66517922, 0.6659455 , 0.66553088]),\n",
       "  'std_test_score': array([0.00788945, 0.00835574, 0.00816106, 0.00782866, 0.00828642,\n",
       "         0.00778858, 0.00790771, 0.00805798, 0.00871274, 0.00826289]),\n",
       "  'rank_test_score': array([ 1,  2,  5,  4,  8,  3,  6, 10,  7,  9])},\n",
       " {'gamma': 0.0},\n",
       " 0.6674897560221492)"
      ]
     },
     "execution_count": 86,
     "metadata": {},
     "output_type": "execute_result"
    }
   ],
   "source": [
    "param_test1 = {\n",
    "    'gamma':[i/10.0 for i in range(0,10)] \n",
    "}\n",
    "gsearch1 = GridSearchCV(estimator = XGBClassifier(  learning_rate = 0.1,      #0.3\n",
    "                                                    n_estimators=   1000,\n",
    "                                                    gamma=             0,     #0\n",
    "                                                    subsample=         1,     #1\n",
    "                                                    colsample_bytree=  1,     #1\n",
    "                                                    max_depth =        3,     #6\n",
    "                                                    min_child_weight = 5,     #1\n",
    "                                                    max_delta_step =   1,     #1\n",
    "                                                    objective= 'binary:logistic', nthread=4,seed=27), \n",
    "                        param_grid = param_test1, \n",
    "                        scoring='roc_auc',\n",
    "                        n_jobs=4, \n",
    "                        cv=5)\n",
    "\n",
    "gsearch1.fit(x_train,y_train)\n",
    "gsearch1.cv_results_, gsearch1.best_params_, gsearch1.best_score_"
   ]
  },
  {
   "cell_type": "markdown",
   "id": "0046af47",
   "metadata": {},
   "source": [
    "**Luego subsample y colsample_bytree**\n",
    "1. **subsample:** controla la proporción de muestras de entrenamiento utilizadas para construir cada árbol en XGBoost. Al reducir este valor, podemos enfocar más la atención del modelo en las instancias de la clase minoritaria, lo que ayuda a equilibrar el aprendizaje entre las clases.\n",
    "2. **colsample_bytree:** establece la proporción de características utilizadas para construir cada árbol. Al reducir este valor, el modelo se enfoca en un subconjunto de características, lo que puede ayudar a destacar aquellas que son más relevantes para la clase minoritaria."
   ]
  },
  {
   "cell_type": "code",
   "execution_count": 87,
   "id": "7262b1df",
   "metadata": {},
   "outputs": [
    {
     "data": {
      "text/plain": [
       "({'mean_fit_time': array([ 8.2765563 ,  8.00604234,  9.0767076 , 11.15993986, 15.52488627,\n",
       "         13.7276648 , 13.7407402 , 13.68725572, 17.99269838, 16.6909277 ,\n",
       "         17.14570751, 16.13217006, 18.02834234, 19.14312754, 18.10931897,\n",
       "         14.91135535]),\n",
       "  'std_fit_time': array([0.05054364, 0.18084724, 1.02137412, 0.78813945, 1.04318042,\n",
       "         0.87046574, 0.53723528, 0.50049714, 0.33786696, 0.36385493,\n",
       "         1.10431686, 0.77295879, 0.26569263, 2.15885641, 2.89704534,\n",
       "         0.70427467]),\n",
       "  'mean_score_time': array([0.03119969, 0.03140016, 0.03000064, 0.03139939, 0.05559716,\n",
       "         0.03280001, 0.03120127, 0.12042208, 0.03040037, 0.03699837,\n",
       "         0.06275153, 0.09142413, 0.12023568, 0.08740039, 0.08558459,\n",
       "         0.10587621]),\n",
       "  'std_score_time': array([0.00132619, 0.00048992, 0.0016734 , 0.00135672, 0.04774744,\n",
       "         0.00172131, 0.00132674, 0.07143818, 0.00102003, 0.00942218,\n",
       "         0.06265191, 0.07441604, 0.07412772, 0.0711532 , 0.06253533,\n",
       "         0.03892316]),\n",
       "  'param_colsample_bytree': masked_array(data=[0.6, 0.6, 0.6, 0.6, 0.7, 0.7, 0.7, 0.7, 0.8, 0.8, 0.8,\n",
       "                     0.8, 0.9, 0.9, 0.9, 0.9],\n",
       "               mask=[False, False, False, False, False, False, False, False,\n",
       "                     False, False, False, False, False, False, False, False],\n",
       "         fill_value='?',\n",
       "              dtype=object),\n",
       "  'param_subsample': masked_array(data=[0.6, 0.7, 0.8, 0.9, 0.6, 0.7, 0.8, 0.9, 0.6, 0.7, 0.8,\n",
       "                     0.9, 0.6, 0.7, 0.8, 0.9],\n",
       "               mask=[False, False, False, False, False, False, False, False,\n",
       "                     False, False, False, False, False, False, False, False],\n",
       "         fill_value='?',\n",
       "              dtype=object),\n",
       "  'params': [{'colsample_bytree': 0.6, 'subsample': 0.6},\n",
       "   {'colsample_bytree': 0.6, 'subsample': 0.7},\n",
       "   {'colsample_bytree': 0.6, 'subsample': 0.8},\n",
       "   {'colsample_bytree': 0.6, 'subsample': 0.9},\n",
       "   {'colsample_bytree': 0.7, 'subsample': 0.6},\n",
       "   {'colsample_bytree': 0.7, 'subsample': 0.7},\n",
       "   {'colsample_bytree': 0.7, 'subsample': 0.8},\n",
       "   {'colsample_bytree': 0.7, 'subsample': 0.9},\n",
       "   {'colsample_bytree': 0.8, 'subsample': 0.6},\n",
       "   {'colsample_bytree': 0.8, 'subsample': 0.7},\n",
       "   {'colsample_bytree': 0.8, 'subsample': 0.8},\n",
       "   {'colsample_bytree': 0.8, 'subsample': 0.9},\n",
       "   {'colsample_bytree': 0.9, 'subsample': 0.6},\n",
       "   {'colsample_bytree': 0.9, 'subsample': 0.7},\n",
       "   {'colsample_bytree': 0.9, 'subsample': 0.8},\n",
       "   {'colsample_bytree': 0.9, 'subsample': 0.9}],\n",
       "  'split0_test_score': array([0.67159087, 0.67171402, 0.67104243, 0.67100735, 0.67084969,\n",
       "         0.67198346, 0.67138115, 0.67104314, 0.67134513, 0.6713377 ,\n",
       "         0.67110151, 0.67104006, 0.6708327 , 0.67127877, 0.67059114,\n",
       "         0.67069928]),\n",
       "  'split1_test_score': array([0.65301534, 0.65352729, 0.65354696, 0.65374554, 0.653656  ,\n",
       "         0.65373314, 0.65344995, 0.65390534, 0.65294721, 0.65343471,\n",
       "         0.65291312, 0.65358566, 0.65337527, 0.6536784 , 0.65345975,\n",
       "         0.65388402]),\n",
       "  'split2_test_score': array([0.6638441 , 0.66390975, 0.66386338, 0.66400098, 0.6649496 ,\n",
       "         0.66440921, 0.66402571, 0.66365002, 0.66447738, 0.66435179,\n",
       "         0.6639934 , 0.66345712, 0.66463798, 0.66428385, 0.66354378,\n",
       "         0.66362387]),\n",
       "  'split3_test_score': array([0.67202679, 0.67316258, 0.67353287, 0.67328777, 0.67157864,\n",
       "         0.67297755, 0.67346466, 0.67316107, 0.67150379, 0.67345352,\n",
       "         0.67291653, 0.67293329, 0.67210947, 0.67326896, 0.6726987 ,\n",
       "         0.67341131]),\n",
       "  'split4_test_score': array([0.67690176, 0.6755866 , 0.67585181, 0.67594488, 0.67572636,\n",
       "         0.67517184, 0.67520936, 0.67602167, 0.67622597, 0.67497212,\n",
       "         0.67548484, 0.67581389, 0.6761984 , 0.67515327, 0.67543239,\n",
       "         0.67539486]),\n",
       "  'mean_test_score': array([0.66747577, 0.66758005, 0.66756749, 0.66759731, 0.66735206,\n",
       "         0.66765504, 0.66750617, 0.66755625, 0.6672999 , 0.66750997,\n",
       "         0.66728188, 0.667366  , 0.66743076, 0.66753265, 0.66714515,\n",
       "         0.66740267]),\n",
       "  'std_test_score': array([0.0083521 , 0.00804127, 0.00808192, 0.00798119, 0.00766264,\n",
       "         0.00784756, 0.00799436, 0.00796042, 0.0080954 , 0.00792146,\n",
       "         0.00813514, 0.00801296, 0.00794596, 0.00784229, 0.007895  ,\n",
       "         0.00784704]),\n",
       "  'rank_test_score': array([ 9,  3,  4,  2, 13,  1,  8,  5, 14,  7, 15, 12, 10,  6, 16, 11])},\n",
       " {'colsample_bytree': 0.7, 'subsample': 0.7},\n",
       " 0.6676550395839329)"
      ]
     },
     "execution_count": 87,
     "metadata": {},
     "output_type": "execute_result"
    }
   ],
   "source": [
    "param_test1 = {\n",
    "    'subsample':[i/10.0 for i in range(6,10)],\n",
    "    'colsample_bytree':[i/10.0 for i in range(6,10)]\n",
    "}\n",
    "gsearch1 = GridSearchCV(estimator = XGBClassifier(  learning_rate = 0.1,      #0.3\n",
    "                                                    n_estimators=   1000,\n",
    "                                                    gamma=             0,     #0\n",
    "                                                    subsample=         1,     #1\n",
    "                                                    colsample_bytree=  1,     #1\n",
    "                                                    max_depth =        3,     #6\n",
    "                                                    min_child_weight = 5,     #1\n",
    "                                                    max_delta_step =   1,     #1\n",
    "                                                    objective= 'binary:logistic', nthread=4,seed=27), \n",
    "                        param_grid = param_test1, \n",
    "                        scoring='roc_auc',\n",
    "                        n_jobs=4, \n",
    "                        cv=5)\n",
    "\n",
    "gsearch1.fit(x_train,y_train)\n",
    "gsearch1.cv_results_, gsearch1.best_params_, gsearch1.best_score_"
   ]
  },
  {
   "cell_type": "code",
   "execution_count": 88,
   "id": "9f384037",
   "metadata": {},
   "outputs": [
    {
     "data": {
      "text/plain": [
       "({'mean_fit_time': array([ 8.78856373,  8.90171499, 10.52662854, 10.66028061, 11.19444976,\n",
       "         10.57109709, 13.61859021, 13.74195929, 13.38712173, 13.55249   ,\n",
       "         12.75749102, 14.31074772, 14.47741547, 14.37119746, 13.66335058,\n",
       "         14.44805079, 13.12991757, 13.03746557, 15.21417861, 14.31206975,\n",
       "         14.16985831, 13.81172242, 13.06567097, 12.80298963, 15.2567174 ,\n",
       "         14.90627642, 14.85649891, 14.37082586, 14.16201639, 13.22014728,\n",
       "         16.20299091, 16.0293983 , 14.89960504, 14.58532534, 15.0590301 ,\n",
       "         13.23303604]),\n",
       "  'std_fit_time': array([0.03437193, 0.31209989, 1.18819318, 0.31810569, 0.16804763,\n",
       "         0.47607033, 1.22296882, 1.07525838, 1.16311762, 0.46817655,\n",
       "         0.45557787, 1.13747936, 0.68292697, 0.16810464, 0.66490066,\n",
       "         0.69410698, 0.88973376, 0.58834553, 0.34422639, 0.48485008,\n",
       "         0.03338471, 0.18516214, 0.3153574 , 0.82626656, 0.28416806,\n",
       "         0.13770495, 0.49624239, 0.23897447, 0.33781673, 0.50280957,\n",
       "         0.31446675, 0.46982826, 0.03399399, 0.04633124, 0.88905424,\n",
       "         0.50222542]),\n",
       "  'mean_score_time': array([0.03140044, 0.02920027, 0.03060021, 0.02979956, 0.03140059,\n",
       "         0.03160033, 0.03420024, 0.03019934, 0.03058844, 0.0596477 ,\n",
       "         0.10692263, 0.03079567, 0.03039985, 0.03060026, 0.03260145,\n",
       "         0.03060064, 0.05700154, 0.03159933, 0.03079982, 0.0309999 ,\n",
       "         0.02939987, 0.08000054, 0.0315649 , 0.03039999, 0.0550004 ,\n",
       "         0.05561733, 0.0559998 , 0.03080053, 0.07042661, 0.05002775,\n",
       "         0.10390806, 0.05740156, 0.03100028, 0.03039999, 0.03279905,\n",
       "         0.02579756]),\n",
       "  'std_score_time': array([0.0018549 , 0.00040057, 0.00162432, 0.00074842, 0.00119884,\n",
       "         0.0008003 , 0.00538138, 0.00074864, 0.00141458, 0.05881282,\n",
       "         0.06098605, 0.00097878, 0.00079927, 0.00162507, 0.00524061,\n",
       "         0.0010201 , 0.05350772, 0.00185417, 0.00116691, 0.00178963,\n",
       "         0.00101979, 0.0625298 , 0.00239803, 0.00135649, 0.04952936,\n",
       "         0.05124631, 0.05000273, 0.00116625, 0.05099956, 0.03456261,\n",
       "         0.06118955, 0.05332579, 0.00063249, 0.0016248 , 0.00495445,\n",
       "         0.00523313]),\n",
       "  'param_colsample_bytree': masked_array(data=[0.7, 0.7, 0.7, 0.7, 0.7, 0.7, 0.75, 0.75, 0.75, 0.75,\n",
       "                     0.75, 0.75, 0.8, 0.8, 0.8, 0.8, 0.8, 0.8, 0.85, 0.85,\n",
       "                     0.85, 0.85, 0.85, 0.85, 0.9, 0.9, 0.9, 0.9, 0.9, 0.9,\n",
       "                     0.95, 0.95, 0.95, 0.95, 0.95, 0.95],\n",
       "               mask=[False, False, False, False, False, False, False, False,\n",
       "                     False, False, False, False, False, False, False, False,\n",
       "                     False, False, False, False, False, False, False, False,\n",
       "                     False, False, False, False, False, False, False, False,\n",
       "                     False, False, False, False],\n",
       "         fill_value='?',\n",
       "              dtype=object),\n",
       "  'param_subsample': masked_array(data=[0.7, 0.75, 0.8, 0.85, 0.9, 0.95, 0.7, 0.75, 0.8, 0.85,\n",
       "                     0.9, 0.95, 0.7, 0.75, 0.8, 0.85, 0.9, 0.95, 0.7, 0.75,\n",
       "                     0.8, 0.85, 0.9, 0.95, 0.7, 0.75, 0.8, 0.85, 0.9, 0.95,\n",
       "                     0.7, 0.75, 0.8, 0.85, 0.9, 0.95],\n",
       "               mask=[False, False, False, False, False, False, False, False,\n",
       "                     False, False, False, False, False, False, False, False,\n",
       "                     False, False, False, False, False, False, False, False,\n",
       "                     False, False, False, False, False, False, False, False,\n",
       "                     False, False, False, False],\n",
       "         fill_value='?',\n",
       "              dtype=object),\n",
       "  'params': [{'colsample_bytree': 0.7, 'subsample': 0.7},\n",
       "   {'colsample_bytree': 0.7, 'subsample': 0.75},\n",
       "   {'colsample_bytree': 0.7, 'subsample': 0.8},\n",
       "   {'colsample_bytree': 0.7, 'subsample': 0.85},\n",
       "   {'colsample_bytree': 0.7, 'subsample': 0.9},\n",
       "   {'colsample_bytree': 0.7, 'subsample': 0.95},\n",
       "   {'colsample_bytree': 0.75, 'subsample': 0.7},\n",
       "   {'colsample_bytree': 0.75, 'subsample': 0.75},\n",
       "   {'colsample_bytree': 0.75, 'subsample': 0.8},\n",
       "   {'colsample_bytree': 0.75, 'subsample': 0.85},\n",
       "   {'colsample_bytree': 0.75, 'subsample': 0.9},\n",
       "   {'colsample_bytree': 0.75, 'subsample': 0.95},\n",
       "   {'colsample_bytree': 0.8, 'subsample': 0.7},\n",
       "   {'colsample_bytree': 0.8, 'subsample': 0.75},\n",
       "   {'colsample_bytree': 0.8, 'subsample': 0.8},\n",
       "   {'colsample_bytree': 0.8, 'subsample': 0.85},\n",
       "   {'colsample_bytree': 0.8, 'subsample': 0.9},\n",
       "   {'colsample_bytree': 0.8, 'subsample': 0.95},\n",
       "   {'colsample_bytree': 0.85, 'subsample': 0.7},\n",
       "   {'colsample_bytree': 0.85, 'subsample': 0.75},\n",
       "   {'colsample_bytree': 0.85, 'subsample': 0.8},\n",
       "   {'colsample_bytree': 0.85, 'subsample': 0.85},\n",
       "   {'colsample_bytree': 0.85, 'subsample': 0.9},\n",
       "   {'colsample_bytree': 0.85, 'subsample': 0.95},\n",
       "   {'colsample_bytree': 0.9, 'subsample': 0.7},\n",
       "   {'colsample_bytree': 0.9, 'subsample': 0.75},\n",
       "   {'colsample_bytree': 0.9, 'subsample': 0.8},\n",
       "   {'colsample_bytree': 0.9, 'subsample': 0.85},\n",
       "   {'colsample_bytree': 0.9, 'subsample': 0.9},\n",
       "   {'colsample_bytree': 0.9, 'subsample': 0.95},\n",
       "   {'colsample_bytree': 0.95, 'subsample': 0.7},\n",
       "   {'colsample_bytree': 0.95, 'subsample': 0.75},\n",
       "   {'colsample_bytree': 0.95, 'subsample': 0.8},\n",
       "   {'colsample_bytree': 0.95, 'subsample': 0.85},\n",
       "   {'colsample_bytree': 0.95, 'subsample': 0.9},\n",
       "   {'colsample_bytree': 0.95, 'subsample': 0.95}],\n",
       "  'split0_test_score': array([0.67198346, 0.67112853, 0.67138115, 0.67135508, 0.67104314,\n",
       "         0.67064415, 0.67179736, 0.67111012, 0.67106605, 0.67146898,\n",
       "         0.67109946, 0.67114772, 0.6713377 , 0.67118256, 0.67110151,\n",
       "         0.67106857, 0.67104006, 0.6708169 , 0.67129188, 0.67089045,\n",
       "         0.67090735, 0.67099851, 0.67082425, 0.67078049, 0.67127877,\n",
       "         0.67089724, 0.67059114, 0.67140919, 0.67069928, 0.6703251 ,\n",
       "         0.67084439, 0.6701025 , 0.67086627, 0.67134449, 0.67029816,\n",
       "         0.67032763]),\n",
       "  'split1_test_score': array([0.65373314, 0.65389547, 0.65344995, 0.65402889, 0.65390534,\n",
       "         0.65368519, 0.65400914, 0.65404919, 0.65289598, 0.65368717,\n",
       "         0.65394049, 0.65374064, 0.65343471, 0.65402786, 0.65291312,\n",
       "         0.6543473 , 0.65358566, 0.65372279, 0.65367374, 0.65394587,\n",
       "         0.65351804, 0.6538397 , 0.65405511, 0.65407834, 0.6536784 ,\n",
       "         0.65392975, 0.65345975, 0.65371387, 0.65388402, 0.65345122,\n",
       "         0.6536502 , 0.65414698, 0.65331093, 0.65401514, 0.65339221,\n",
       "         0.65361718]),\n",
       "  'split2_test_score': array([0.66440921, 0.66432967, 0.66402571, 0.66374995, 0.66365002,\n",
       "         0.66385998, 0.66415431, 0.66440131, 0.66374133, 0.66325103,\n",
       "         0.66402531, 0.66361574, 0.66435179, 0.66451672, 0.6639934 ,\n",
       "         0.66357442, 0.66345712, 0.66361329, 0.66430803, 0.66432232,\n",
       "         0.66337552, 0.66320103, 0.66374726, 0.6632395 , 0.66428385,\n",
       "         0.66381598, 0.66354378, 0.6635339 , 0.66362387, 0.66312022,\n",
       "         0.66430692, 0.664025  , 0.66343548, 0.66358643, 0.66326335,\n",
       "         0.66327844]),\n",
       "  'split3_test_score': array([0.67297755, 0.67294846, 0.67346466, 0.67358907, 0.67316107,\n",
       "         0.67313918, 0.67298743, 0.67305801, 0.67239606, 0.67288894,\n",
       "         0.67361586, 0.67313207, 0.67345352, 0.67351264, 0.67291653,\n",
       "         0.67349209, 0.67293329, 0.67308378, 0.67262496, 0.6732918 ,\n",
       "         0.6734581 , 0.67310938, 0.67333283, 0.67304497, 0.67326896,\n",
       "         0.67330603, 0.6726987 , 0.67335148, 0.67341131, 0.67301991,\n",
       "         0.67300316, 0.67370107, 0.67263239, 0.67296308, 0.67341202,\n",
       "         0.67333741]),\n",
       "  'split4_test_score': array([0.67517184, 0.67567698, 0.67520936, 0.67556543, 0.67602167,\n",
       "         0.67562958, 0.67514798, 0.67540837, 0.67595112, 0.67613125,\n",
       "         0.67576041, 0.67527185, 0.67497212, 0.67537108, 0.67548484,\n",
       "         0.67555042, 0.67581389, 0.67512522, 0.67477793, 0.67513383,\n",
       "         0.67559221, 0.67559458, 0.67508074, 0.67513921, 0.67515327,\n",
       "         0.67552735, 0.67543239, 0.67543428, 0.67539486, 0.67504156,\n",
       "         0.67552632, 0.6752931 , 0.67557562, 0.67529397, 0.67563416,\n",
       "         0.67517839]),\n",
       "  'mean_test_score': array([0.66765504, 0.66759582, 0.66750617, 0.66765768, 0.66755625,\n",
       "         0.66739162, 0.66761924, 0.6676054 , 0.66721011, 0.66748547,\n",
       "         0.66768831, 0.66738161, 0.66750997, 0.66772217, 0.66728188,\n",
       "         0.66760656, 0.667366  , 0.6672724 , 0.66733531, 0.66751685,\n",
       "         0.66737025, 0.66734864, 0.66740804, 0.6672565 , 0.66753265,\n",
       "         0.66749527, 0.66714515, 0.66748854, 0.66740267, 0.6669916 ,\n",
       "         0.6674662 , 0.66745373, 0.66716414, 0.66744062, 0.66719998,\n",
       "         0.66714781]),\n",
       "  'std_test_score': array([0.00784756, 0.00780773, 0.00799436, 0.00790442, 0.00796042,\n",
       "         0.00789704, 0.0077485 , 0.00770633, 0.0081865 , 0.0081011 ,\n",
       "         0.00792907, 0.00787102, 0.00792146, 0.00776941, 0.00813514,\n",
       "         0.00776912, 0.00801296, 0.00781004, 0.00767894, 0.00770878,\n",
       "         0.00806244, 0.00792713, 0.00771163, 0.00771832, 0.00784229,\n",
       "         0.00784108, 0.007895  , 0.00797823, 0.00784704, 0.00788142,\n",
       "         0.00784727, 0.0076984 , 0.00800219, 0.00777832, 0.00806815,\n",
       "         0.00788622]),\n",
       "  'rank_test_score': array([ 4,  8, 13,  3,  9, 22,  5,  7, 31, 16,  2, 23, 12,  1, 28,  6, 25,\n",
       "         29, 27, 11, 24, 26, 20, 30, 10, 14, 35, 15, 21, 36, 17, 18, 33, 19,\n",
       "         32, 34])},\n",
       " {'colsample_bytree': 0.8, 'subsample': 0.75},\n",
       " 0.6677221722065942)"
      ]
     },
     "execution_count": 88,
     "metadata": {},
     "output_type": "execute_result"
    }
   ],
   "source": [
    "param_test1 = {\n",
    " 'subsample':[i/100.0 for i in range(70,100,5)],\n",
    " 'colsample_bytree':[i/100.0 for i in range(70,100,5)]\n",
    "}\n",
    "gsearch1 = GridSearchCV(estimator = XGBClassifier(  learning_rate = 0.1,      #0.3\n",
    "                                                    n_estimators=   1000,\n",
    "                                                    gamma=             0,     #0\n",
    "                                                    subsample=         0.75,     #1\n",
    "                                                    colsample_bytree=  0.8,     #1\n",
    "                                                    max_depth =        3,     #6\n",
    "                                                    min_child_weight = 5,     #1\n",
    "                                                    max_delta_step =   1,     #1\n",
    "                                                    objective= 'binary:logistic', nthread=4,seed=27), \n",
    "                        param_grid = param_test1, \n",
    "                        scoring='roc_auc',\n",
    "                        n_jobs=4, \n",
    "                        cv=5)\n",
    "\n",
    "gsearch1.fit(x_train,y_train)\n",
    "gsearch1.cv_results_, gsearch1.best_params_, gsearch1.best_score_"
   ]
  },
  {
   "cell_type": "markdown",
   "id": "4c6b220d",
   "metadata": {},
   "source": [
    "**Finalmente learning_rate**\n",
    "1. **learning_rate:** controla la tasa de aprendizaje del modelo, es decir, la velocidad a la que se actualizan los pesos de los árboles. Al reducir este valor, el modelo aprende de manera más lenta pero puede lograr una mejor generalización y evitar un sobreajuste a la clase mayoritaria."
   ]
  },
  {
   "cell_type": "code",
   "execution_count": 89,
   "id": "d148a201",
   "metadata": {},
   "outputs": [
    {
     "data": {
      "text/plain": [
       "({'mean_fit_time': array([ 9.70982008, 12.4136116 , 12.92668772, 13.91427255, 12.57580423,\n",
       "         13.581251  , 13.55120893, 13.27005987]),\n",
       "  'std_fit_time': array([1.36478002, 0.02172199, 0.43129234, 0.3470895 , 0.32282829,\n",
       "         0.4124592 , 0.40220185, 0.02388779]),\n",
       "  'mean_score_time': array([0.02959952, 0.0305171 , 0.03059907, 0.02980013, 0.03039951,\n",
       "         0.03019943, 0.02939997, 0.02782545]),\n",
       "  'std_score_time': array([0.00185446, 0.00163433, 0.0014955 , 0.00146824, 0.00205823,\n",
       "         0.00116595, 0.00102003, 0.00349611]),\n",
       "  'param_learning_rate': masked_array(data=[0.005, 0.007, 0.009, 0.011, 0.013, 0.015, 0.017, 0.019],\n",
       "               mask=[False, False, False, False, False, False, False, False],\n",
       "         fill_value='?',\n",
       "              dtype=object),\n",
       "  'params': [{'learning_rate': 0.005},\n",
       "   {'learning_rate': 0.007},\n",
       "   {'learning_rate': 0.009},\n",
       "   {'learning_rate': 0.011},\n",
       "   {'learning_rate': 0.013},\n",
       "   {'learning_rate': 0.015},\n",
       "   {'learning_rate': 0.017},\n",
       "   {'learning_rate': 0.019}],\n",
       "  'split0_test_score': array([0.6646738 , 0.66664019, 0.66870548, 0.66965465, 0.67027407,\n",
       "         0.67072306, 0.67044035, 0.67013283]),\n",
       "  'split1_test_score': array([0.6445702 , 0.64695644, 0.64863905, 0.65033707, 0.65026214,\n",
       "         0.65170067, 0.65145895, 0.65184823]),\n",
       "  'split2_test_score': array([0.66091393, 0.66399735, 0.665539  , 0.66612252, 0.66680923,\n",
       "         0.6669436 , 0.66696611, 0.66670647]),\n",
       "  'split3_test_score': array([0.65587184, 0.6613663 , 0.66509218, 0.66602258, 0.66829964,\n",
       "         0.66904253, 0.66982865, 0.6703616 ]),\n",
       "  'split4_test_score': array([0.66798451, 0.67130895, 0.67327079, 0.67424841, 0.67496789,\n",
       "         0.67510038, 0.67560066, 0.67635293]),\n",
       "  'mean_test_score': array([0.65880286, 0.66205385, 0.6642493 , 0.66527705, 0.6661226 ,\n",
       "         0.66670205, 0.66685895, 0.66708041]),\n",
       "  'std_test_score': array([0.00817786, 0.00823254, 0.00833425, 0.00805137, 0.00839332,\n",
       "         0.0079659 , 0.00818822, 0.00822463]),\n",
       "  'rank_test_score': array([8, 7, 6, 5, 4, 3, 2, 1])},\n",
       " {'learning_rate': 0.019},\n",
       " 0.6670804115794431)"
      ]
     },
     "execution_count": 89,
     "metadata": {},
     "output_type": "execute_result"
    }
   ],
   "source": [
    "param_test1 = {\n",
    "        'learning_rate':[i/1000.0 for i in range(5,20,2)]\n",
    "}\n",
    "gsearch1 = GridSearchCV(estimator = XGBClassifier(  learning_rate = 0.019,      #0.3\n",
    "                                                    n_estimators=   1000,\n",
    "                                                    gamma=             0,     #0\n",
    "                                                    subsample=         0.75,     #1\n",
    "                                                    colsample_bytree=  0.8,     #1\n",
    "                                                    max_depth =        3,     #6\n",
    "                                                    min_child_weight = 5,     #1\n",
    "                                                    max_delta_step =   1,     #1\n",
    "                                                    objective= 'binary:logistic', nthread=4,seed=27), \n",
    "                        param_grid = param_test1, \n",
    "                        scoring='roc_auc',\n",
    "                        n_jobs=4, \n",
    "                        cv=5)\n",
    "\n",
    "gsearch1.fit(x_train,y_train)\n",
    "gsearch1.cv_results_, gsearch1.best_params_, gsearch1.best_score_"
   ]
  },
  {
   "cell_type": "code",
   "execution_count": 91,
   "id": "f53c0d34",
   "metadata": {},
   "outputs": [],
   "source": [
    "XGBoost_final = XGBClassifier(  learning_rate = 0.019,      #0.3\n",
    "                                                    n_estimators=   1000,\n",
    "                                                    gamma=             0,     #0\n",
    "                                                    subsample=         0.75,     #1\n",
    "                                                    colsample_bytree=  0.8,     #1\n",
    "                                                    max_depth =        3,     #6\n",
    "                                                    min_child_weight = 5,     #1\n",
    "                                                    max_delta_step =   1,     #1\n",
    "                                                    objective= 'binary:logistic', nthread=4,seed=27).fit(x_train,y_train)"
   ]
  },
  {
   "cell_type": "code",
   "execution_count": 92,
   "id": "83a2664a",
   "metadata": {
    "id": "va4xEmMwjJkX"
   },
   "outputs": [],
   "source": [
    "y_predxgb_grid = XGBoost_final.predict(x_test)"
   ]
  },
  {
   "cell_type": "code",
   "execution_count": 93,
   "id": "e9c94da9",
   "metadata": {
    "id": "C--vx-UCjJkX",
    "outputId": "cdbfbbda-bc18-4830-abba-ca968be93e66"
   },
   "outputs": [
    {
     "data": {
      "text/plain": [
       "array([[18312,    91],\n",
       "       [ 3943,   162]], dtype=int64)"
      ]
     },
     "execution_count": 93,
     "metadata": {},
     "output_type": "execute_result"
    }
   ],
   "source": [
    "confusion_matrix(y_test, y_predxgb_grid)"
   ]
  },
  {
   "cell_type": "code",
   "execution_count": null,
   "id": "49419729",
   "metadata": {
    "id": "H1ve4AZ5jJka",
    "outputId": "80494437-0d23-45f1-9043-aa062446e1ea"
   },
   "outputs": [
    {
     "data": {
      "text/plain": [
       "0.6756354882107201"
      ]
     },
     "execution_count": 381,
     "metadata": {},
     "output_type": "execute_result"
    }
   ],
   "source": [
    "modelxgb.score(x_upsampled_test, y_upsampled_test)"
   ]
  },
  {
   "cell_type": "markdown",
   "id": "7b2ed25f",
   "metadata": {},
   "source": [
    "## Resultado XGBoostCV Nuevo"
   ]
  },
  {
   "cell_type": "code",
   "execution_count": 95,
   "id": "2cbfbcac",
   "metadata": {},
   "outputs": [
    {
     "name": "stdout",
     "output_type": "stream",
     "text": [
      "              precision    recall  f1-score   support\n",
      "\n",
      "           0       0.82      1.00      0.90     18403\n",
      "           1       0.64      0.04      0.07      4105\n",
      "\n",
      "    accuracy                           0.82     22508\n",
      "   macro avg       0.73      0.52      0.49     22508\n",
      "weighted avg       0.79      0.82      0.75     22508\n",
      "\n"
     ]
    }
   ],
   "source": [
    "print(classification_report(y_test, y_predxgb_grid))"
   ]
  },
  {
   "cell_type": "markdown",
   "id": "1b7e89cb",
   "metadata": {},
   "source": [
    "## Resultado XGBoostCV de Juan"
   ]
  },
  {
   "cell_type": "markdown",
   "id": "a1c80c6e",
   "metadata": {
    "id": "8Q4mF3MCjJka",
    "outputId": "0f53dc7b-780b-4f30-9f15-c4c2b6e19501",
    "scrolled": true
   },
   "source": [
    "```markdown\n",
    "              precision    recall  f1-score   support\n",
    "\n",
    "           0       0.68      0.93      0.79     18349\n",
    "           1       0.62      0.19      0.30      9897\n",
    "\n",
    "    accuracy                           0.68     28246\n",
    "   macro avg       0.65      0.56      0.54     28246\n",
    "weighted avg       0.66      0.68      0.62     28246\n",
    "```"
   ]
  },
  {
   "cell_type": "markdown",
   "id": "54f27075",
   "metadata": {},
   "source": [
    "#### De esta forma logramos obtene mejores resultados que el modelo XGBoostCV realizado por Juan."
   ]
  },
  {
   "cell_type": "markdown",
   "id": "df490b94",
   "metadata": {},
   "source": [
    "-----------------------------------------------------"
   ]
  }
 ],
 "metadata": {
  "kernelspec": {
   "display_name": "Python 3 (ipykernel)",
   "language": "python",
   "name": "python3"
  },
  "language_info": {
   "codemirror_mode": {
    "name": "ipython",
    "version": 3
   },
   "file_extension": ".py",
   "mimetype": "text/x-python",
   "name": "python",
   "nbconvert_exporter": "python",
   "pygments_lexer": "ipython3",
   "version": "3.9.13"
  }
 },
 "nbformat": 4,
 "nbformat_minor": 5
}
