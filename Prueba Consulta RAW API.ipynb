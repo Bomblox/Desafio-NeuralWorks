{
 "cells": [
  {
   "cell_type": "markdown",
   "id": "9bd691b3",
   "metadata": {},
   "source": [
    "## Request para la RAW API en local"
   ]
  },
  {
   "cell_type": "markdown",
   "id": "2ccc4af6",
   "metadata": {},
   "source": [
    "# Caso de vuelo con retraso\n",
    "###### Este corresponde a un vuelo de Latin American Wings, Nacional y en el mes de Octubre"
   ]
  },
  {
   "cell_type": "code",
   "execution_count": 4,
   "id": "de181486",
   "metadata": {},
   "outputs": [
    {
     "name": "stdout",
     "output_type": "stream",
     "text": [
      "Respuesta: {'prediction': [1]}\n",
      "Predicción: [1]\n"
     ]
    }
   ],
   "source": [
    "import requests\n",
    "import json\n",
    "import numpy as np\n",
    "\n",
    "# URL de la API\n",
    "url = 'http://127.0.0.1:5000/'\n",
    "\n",
    "# Datos de entrada\n",
    "input_data = [0,0,0,0,0,0,0,0,0,0,0,0,0,0,0,0,0,1,0,0,0,0,0,0,1,0,0,0,0,0,0,0,0,0,1,0,0]  # Inserta tus datos aquí\n",
    "\n",
    "# Crear el payload de la solicitud POST\n",
    "payload = {'data': input_data}\n",
    "\n",
    "# Realizar la solicitud POST\n",
    "response = requests.post(url, json=payload)\n",
    "\n",
    "# Verificar el código de respuesta de la API\n",
    "if response.status_code == 200:\n",
    "    try:\n",
    "        # Analizar la respuesta en formato JSON\n",
    "        json_response = response.json()\n",
    "        prediction = json_response['prediction']\n",
    "\n",
    "        # Imprimir la respuesta\n",
    "        print('Respuesta:', json_response)\n",
    "        print('Predicción:', prediction)\n",
    "    except json.JSONDecodeError:\n",
    "        print('Error al decodificar la respuesta en formato JSON:', response.text)\n",
    "else:\n",
    "    print('Error en la solicitud:', response.text)"
   ]
  },
  {
   "cell_type": "markdown",
   "id": "c7d3a0c6",
   "metadata": {},
   "source": [
    "# Caso de vuelo sin retraso\n",
    "###### Este corresponde a un vuelo de Aerolineas Argentinas , Internacional y en el mes de Diciembre"
   ]
  },
  {
   "cell_type": "code",
   "execution_count": 5,
   "id": "485ed638",
   "metadata": {},
   "outputs": [
    {
     "name": "stdout",
     "output_type": "stream",
     "text": [
      "Respuesta: {'prediction': [0]}\n",
      "Predicción: [0]\n"
     ]
    }
   ],
   "source": [
    "import requests\n",
    "import json\n",
    "import numpy as np\n",
    "\n",
    "# URL de la API\n",
    "url = 'http://127.0.0.1:5000/'\n",
    "\n",
    "# Datos de entrada\n",
    "input_data = [1,0,0,0,0,0,0,0,0,0,0,0,0,0,0,0,1,0,0,0,0,0,0,0,1,0,0,0,0,0,0,0,0,0,0,0,1]  # Inserta tus datos aquí\n",
    "\n",
    "# Crear el payload de la solicitud POST\n",
    "payload = {'data': input_data}\n",
    "\n",
    "# Realizar la solicitud POST\n",
    "response = requests.post(url, json=payload)\n",
    "\n",
    "# Verificar el código de respuesta de la API\n",
    "if response.status_code == 200:\n",
    "    try:\n",
    "        # Analizar la respuesta en formato JSON\n",
    "        json_response = response.json()\n",
    "        prediction = json_response['prediction']\n",
    "\n",
    "        # Imprimir la respuesta\n",
    "        print('Respuesta:', json_response)\n",
    "        print('Predicción:', prediction)\n",
    "    except json.JSONDecodeError:\n",
    "        print('Error al decodificar la respuesta en formato JSON:', response.text)\n",
    "else:\n",
    "    print('Error en la solicitud:', response.text)"
   ]
  },
  {
   "cell_type": "markdown",
   "id": "b49dfa5c",
   "metadata": {},
   "source": [
    "-------------------"
   ]
  }
 ],
 "metadata": {
  "kernelspec": {
   "display_name": "Python 3 (ipykernel)",
   "language": "python",
   "name": "python3"
  },
  "language_info": {
   "codemirror_mode": {
    "name": "ipython",
    "version": 3
   },
   "file_extension": ".py",
   "mimetype": "text/x-python",
   "name": "python",
   "nbconvert_exporter": "python",
   "pygments_lexer": "ipython3",
   "version": "3.9.13"
  }
 },
 "nbformat": 4,
 "nbformat_minor": 5
}
