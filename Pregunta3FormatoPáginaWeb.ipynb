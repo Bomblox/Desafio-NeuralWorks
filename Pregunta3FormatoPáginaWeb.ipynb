{
 "cells": [
  {
   "cell_type": "code",
   "execution_count": 33,
   "id": "4c56c4d9",
   "metadata": {},
   "outputs": [
    {
     "name": "stdout",
     "output_type": "stream",
     "text": [
      " * Serving Flask app \"__main__\" (lazy loading)\n",
      " * Environment: production\n",
      "\u001b[31m   WARNING: This is a development server. Do not use it in a production deployment.\u001b[0m\n",
      "\u001b[2m   Use a production WSGI server instead.\u001b[0m\n",
      " * Debug mode: off\n"
     ]
    },
    {
     "name": "stderr",
     "output_type": "stream",
     "text": [
      " * Running on http://127.0.0.1:5006/ (Press CTRL+C to quit)\n",
      "127.0.0.1 - - [16/Jul/2023 18:01:37] \"GET / HTTP/1.1\" 200 -\n",
      "127.0.0.1 - - [16/Jul/2023 18:01:44] \"POST /result HTTP/1.1\" 200 -\n",
      "127.0.0.1 - - [16/Jul/2023 18:04:43] \"POST /result HTTP/1.1\" 200 -\n",
      "127.0.0.1 - - [16/Jul/2023 18:04:59] \"POST /result HTTP/1.1\" 200 -\n"
     ]
    }
   ],
   "source": [
    "#importing libraries\n",
    "import os\n",
    "import numpy as np\n",
    "import flask\n",
    "import pickle\n",
    "from flask import Flask, render_template, request\n",
    "#creating instance of the class\n",
    "app=Flask(__name__)\n",
    "#to tell flask what url shoud trigger the function index()\n",
    "@app.route('/')\n",
    "@app.route('/index')\n",
    "def index():\n",
    "  return flask.render_template('index.html')\n",
    "def ValuePredictor(to_predict_list):\n",
    "  to_predict = np.array(to_predict_list).reshape(1, 37)\n",
    "  loaded_model = pickle.load(open(\"XGBoost_GridCV2.pkl\",\"rb\"))\n",
    "  result = loaded_model.predict(to_predict)\n",
    "  return result[0]\n",
    "@app.route('/result', methods = ['POST'])\n",
    "def result():\n",
    "  if request.method == 'POST':\n",
    "    to_predict_list = request.form.to_dict()\n",
    "    to_predict_list = list(to_predict_list.values())\n",
    "    try:\n",
    "      to_predict_list = list(map(float, to_predict_list))\n",
    "      result = ValuePredictor(to_predict_list)\n",
    "      if int(result)==0:\n",
    "        prediction='No atraso'\n",
    "      elif int(result)==1:\n",
    "        prediction='Probabilidad de Vuelo con Retraso'\n",
    "      else:\n",
    "        prediction=f'{int(result)} No-definida'\n",
    "    except ValueError:\n",
    "      prediction= print(request.form.to_dict())\n",
    "    return render_template(\"result.html\", prediction=prediction)\n",
    "if __name__==\"__main__\":\n",
    "  app.run(port=5006)"
   ]
  },
  {
   "cell_type": "code",
   "execution_count": null,
   "id": "f5ddfd37",
   "metadata": {},
   "outputs": [],
   "source": []
  },
  {
   "cell_type": "code",
   "execution_count": null,
   "id": "ffb6ec52",
   "metadata": {},
   "outputs": [],
   "source": []
  }
 ],
 "metadata": {
  "kernelspec": {
   "display_name": "Python 3 (ipykernel)",
   "language": "python",
   "name": "python3"
  },
  "language_info": {
   "codemirror_mode": {
    "name": "ipython",
    "version": 3
   },
   "file_extension": ".py",
   "mimetype": "text/x-python",
   "name": "python",
   "nbconvert_exporter": "python",
   "pygments_lexer": "ipython3",
   "version": "3.9.13"
  }
 },
 "nbformat": 4,
 "nbformat_minor": 5
}
