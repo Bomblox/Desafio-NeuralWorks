{
 "cells": [
  {
   "cell_type": "markdown",
   "id": "28f39e14",
   "metadata": {},
   "source": [
    "### 5. Realiza pruebas de estrés a la API con el modelo expuesto con al menos 50.000 requests durante 45 segundos. Para esto debes utilizar esta herramienta: https://github.com/wg/wrk y presentar las métricas obtenidas. ¿Cómo podrías mejorar el performance de las pruebas anteriores?"
   ]
  },
  {
   "cell_type": "markdown",
   "id": "d1a7384e",
   "metadata": {},
   "source": [
    "#### Metricas obtenidas:"
   ]
  },
  {
   "cell_type": "markdown",
   "id": "6dc936a7",
   "metadata": {},
   "source": [
    "```markdown\n",
    "wrk -t4 -c300 -d45s --latency https://web-atrasos-74fd3611640e.herokuapp.com/\n",
    "\n",
    "Running 45s test @ https://web-atrasos-74fd3611640e.herokuapp.com/\n",
    "\n",
    "4 threads and 300 connections\n",
    "  Thread Stats   Avg      Stdev     Max   +/- Stdev\n",
    "    Latency   141.84ms    7.55ms 510.77ms   83.89%\n",
    "    Req/Sec   483.96    105.87   700.00     78.06%\n",
    "\n",
    "Latency Distribution\n",
    "     50%  141.27ms\n",
    "     75%  144.61ms\n",
    "     90%  148.47ms\n",
    "     99%  162.98ms\n",
    "\n",
    "84620 requests in 45.09s, 401.32MB read\n",
    "Requests/sec:   1876.53\n",
    "Transfer/sec:      8.90MB\n",
    "```"
   ]
  },
  {
   "cell_type": "markdown",
   "id": "2be75e0e",
   "metadata": {},
   "source": [
    "\n",
    "**Durante la ejecución de la prueba de carga en la API que corresponde a un modelo de ML XGBoost en Heroku, se observaron los siguientes resultados**:\n",
    "```markdown\n",
    "Latencia promedio: 141.84ms   \n",
    "Solicitudes por segundo promedio: 483.96  \n",
    "Distribución de latencia:  \n",
    "Total de solicitudes realizadas: 84,620  \n",
    "Total de datos transferidos: 401.32MB  \n",
    "Transferencia promedio por segundo: 8.90MB\n",
    "```\n",
    "**Estos resultados muestran que la API pudo manejar una carga significativa durante la prueba, con una buena tasa de solicitudes por segundo y una latencia aceptable. Sin embargo, siempre hay margen para mejorar el rendimiento y optimizar la respuesta del modelo de ML.** \n"
   ]
  },
  {
   "cell_type": "markdown",
   "id": "02b194cd",
   "metadata": {},
   "source": [
    "**Para mejorar aún más estos resultados se podría considerar:**\n",
    "1. **Optimización del modelo:** Evaluar la posibilidad de optimizar el modelo de XGBoost para mejorar su tiempo de predicción. Esto podría incluir técnicas como la reducción de características, ajuste de hiperparámetros o incluso la exploración de otros modelos más eficientes para el problema en cuestión.\n",
    "2. **Escalado horizontal:** Si es posible, considerar el escalado horizontal de la infraestructura de la aplicación en Heroku. Esto implica aumentar la capacidad de procesamiento agregando instancias adicionales del servidor o utilizando tecnologías de balanceo de carga para distribuir las solicitudes entre múltiples servidores.\n",
    "3. **Optimización del código:** Revisar y optimizar el código de la aplicación para garantizar que esté escrito de manera eficiente y siga las mejores prácticas. Esto puede incluir mejoras en el manejo de memoria, paralelización de tareas o optimización de consultas a bases de datos."
   ]
  }
 ],
 "metadata": {
  "kernelspec": {
   "display_name": "Python 3 (ipykernel)",
   "language": "python",
   "name": "python3"
  },
  "language_info": {
   "codemirror_mode": {
    "name": "ipython",
    "version": 3
   },
   "file_extension": ".py",
   "mimetype": "text/x-python",
   "name": "python",
   "nbconvert_exporter": "python",
   "pygments_lexer": "ipython3",
   "version": "3.9.13"
  }
 },
 "nbformat": 4,
 "nbformat_minor": 5
}
