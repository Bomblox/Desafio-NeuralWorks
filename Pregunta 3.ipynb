{
 "cells": [
  {
   "cell_type": "markdown",
   "id": "69561023",
   "metadata": {},
   "source": [
    "### 3. Serializa el modelo seleccionado (puede ser de los construidos en el punto 2) e implementa una API REST para poder predecir atrasos de nuevos vuelos.\n"
   ]
  },
  {
   "cell_type": "markdown",
   "id": "3671b81f",
   "metadata": {},
   "source": [
    "###### Dato: en la creacion del modelo de XGBoost la variable a predecir \"labels_\" está vacía por lo que se solucionó esto"
   ]
  },
  {
   "cell_type": "markdown",
   "id": "89c12603",
   "metadata": {},
   "source": [
    "###### Se serealizó el modelo de XGBoost después del GridCV. Utilicé Flask para implementar tu modelo y crear una API porque Flask es un framework ligero y fácil de usar para el desarrollo de aplicaciones web en Python"
   ]
  },
  {
   "cell_type": "code",
   "execution_count": 5,
   "id": "2b0be6be",
   "metadata": {},
   "outputs": [
    {
     "ename": "ModuleNotFoundError",
     "evalue": "No module named 'pickle5'",
     "output_type": "error",
     "traceback": [
      "\u001b[1;31m---------------------------------------------------------------------------\u001b[0m",
      "\u001b[1;31mModuleNotFoundError\u001b[0m                       Traceback (most recent call last)",
      "\u001b[1;32m~\\AppData\\Local\\Temp\\ipykernel_9388\\3060790468.py\u001b[0m in \u001b[0;36m<module>\u001b[1;34m\u001b[0m\n\u001b[0;32m      2\u001b[0m \u001b[1;32mimport\u001b[0m \u001b[0mpickle\u001b[0m\u001b[1;33m\u001b[0m\u001b[1;33m\u001b[0m\u001b[0m\n\u001b[0;32m      3\u001b[0m \u001b[1;32mimport\u001b[0m \u001b[0mnumpy\u001b[0m \u001b[1;32mas\u001b[0m \u001b[0mnp\u001b[0m\u001b[1;33m\u001b[0m\u001b[1;33m\u001b[0m\u001b[0m\n\u001b[1;32m----> 4\u001b[1;33m \u001b[1;32mimport\u001b[0m \u001b[0mpickle5\u001b[0m \u001b[1;32mas\u001b[0m \u001b[0mpickle\u001b[0m\u001b[1;33m\u001b[0m\u001b[1;33m\u001b[0m\u001b[0m\n\u001b[0m\u001b[0;32m      5\u001b[0m \u001b[1;33m\u001b[0m\u001b[0m\n\u001b[0;32m      6\u001b[0m \u001b[0mapp\u001b[0m \u001b[1;33m=\u001b[0m \u001b[0mFlask\u001b[0m\u001b[1;33m(\u001b[0m\u001b[0m__name__\u001b[0m\u001b[1;33m)\u001b[0m\u001b[1;33m\u001b[0m\u001b[1;33m\u001b[0m\u001b[0m\n",
      "\u001b[1;31mModuleNotFoundError\u001b[0m: No module named 'pickle5'"
     ]
    }
   ],
   "source": [
    "from flask import Flask, request, jsonify\n",
    "import numpy as np\n",
    "import pickle5 as pickle\n",
    "\n",
    "app = Flask(__name__)\n",
    "\n",
    "# Cargar el modelo desde el archivo .pkl utilizando pickle\n",
    "with open('XGBoost_GridCV2.pkl', 'rb') as file:\n",
    "    modelo = pickle.load(file)\n",
    "\n",
    "@app.route('/', methods=['POST'])\n",
    "def predict():\n",
    "    # Obtener los datos de entrada\n",
    "    data = request.json\n",
    "\n",
    "    # Realizar la predicción\n",
    "    prediction = modelo.predict(np.array(data['data']).reshape(1, -1))\n",
    "\n",
    "    # Devolver la predicción como respuesta en formato JSON\n",
    "    response = {'prediction': prediction.tolist()}\n",
    "\n",
    "    return jsonify(response)\n",
    "\n",
    "if __name__ == '__main__':\n",
    "    app.run()\n"
   ]
  },
  {
   "cell_type": "markdown",
   "id": "884881cc",
   "metadata": {},
   "source": [
    "###### Este código crea una API REST utilizando Flask que carga un modelo de aprendizaje automático desde un archivo .pkl y realiza predicciones en función de los datos de entrada enviados a través de solicitudes POST a la ruta raíz (\"/\"). La predicción se devuelve en formato JSON. Al ejecutarlo se inicia la instancia y se dejó otro archivo PruebaAPI.ipynb donde ejecutando la request se puede utilizar la API."
   ]
  }
 ],
 "metadata": {
  "kernelspec": {
   "display_name": "Python 3 (ipykernel)",
   "language": "python",
   "name": "python3"
  },
  "language_info": {
   "codemirror_mode": {
    "name": "ipython",
    "version": 3
   },
   "file_extension": ".py",
   "mimetype": "text/x-python",
   "name": "python",
   "nbconvert_exporter": "python",
   "pygments_lexer": "ipython3",
   "version": "3.9.13"
  }
 },
 "nbformat": 4,
 "nbformat_minor": 5
}
