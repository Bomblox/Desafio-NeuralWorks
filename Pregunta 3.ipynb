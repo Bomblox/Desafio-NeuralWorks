{
 "cells": [
  {
   "cell_type": "markdown",
   "id": "69561023",
   "metadata": {},
   "source": [
    "### 3. Serializa el modelo seleccionado (puede ser de los construidos en el punto 2) e implementa una API REST para poder predecir atrasos de nuevos vuelos.\n"
   ]
  },
  {
   "cell_type": "markdown",
   "id": "3671b81f",
   "metadata": {},
   "source": [
    "###### Dato: en la creacion del modelo de XGBoost la variable a predecir \"labels_\" está vacía por lo que se solucionó esto"
   ]
  },
  {
   "cell_type": "markdown",
   "id": "89c12603",
   "metadata": {},
   "source": [
    "###### Se serealizó el modelo de XGBoost después del GridCV. Utilicé Flask para implementar tu modelo y crear una API porque Flask es un framework ligero y fácil de usar para el desarrollo de aplicaciones web en Python"
   ]
  },
  {
   "cell_type": "code",
   "execution_count": 1,
   "id": "2b0be6be",
   "metadata": {},
   "outputs": [
    {
     "name": "stdout",
     "output_type": "stream",
     "text": [
      " * Serving Flask app \"__main__\" (lazy loading)\n",
      " * Environment: production\n",
      "\u001b[31m   WARNING: This is a development server. Do not use it in a production deployment.\u001b[0m\n",
      "\u001b[2m   Use a production WSGI server instead.\u001b[0m\n",
      " * Debug mode: off\n"
     ]
    },
    {
     "name": "stderr",
     "output_type": "stream",
     "text": [
      " * Running on http://127.0.0.1:5000/ (Press CTRL+C to quit)\n"
     ]
    }
   ],
   "source": [
    "from flask import Flask, request, jsonify\n",
    "import joblib\n",
    "import numpy as np\n",
    "\n",
    "app = Flask(__name__)\n",
    "\n",
    "# Cargar el modelo desde el archivo .pkl\n",
    "modelo = joblib.load('XGBoost_GridCV.pkl')\n",
    "\n",
    "@app.route('/', methods=['POST'])\n",
    "def predict():\n",
    "    # Obtener los datos de entrada\n",
    "    data = request.json\n",
    "\n",
    "    # Realizar la predicción\n",
    "    prediction = modelo.predict(np.array(data['data']).reshape(1, -1))\n",
    "\n",
    "    # Devolver la predicción como respuesta en formato JSON\n",
    "    response = {'prediction': prediction.tolist()}\n",
    "\n",
    "    return jsonify(response)\n",
    "\n",
    "if __name__ == '__main__':\n",
    "    app.run()"
   ]
  },
  {
   "cell_type": "markdown",
   "id": "884881cc",
   "metadata": {},
   "source": [
    "###### Este código crea una API REST utilizando Flask que carga un modelo de aprendizaje automático desde un archivo .pkl y realiza predicciones en función de los datos de entrada enviados a través de solicitudes POST a la ruta raíz (\"/\"). La predicción se devuelve en formato JSON. Al ejecutarlo se inicia la instancia y se dejó otro archivo PruebaAPI.ipynb donde ejecutando la request se puede utilizar la API."
   ]
  }
 ],
 "metadata": {
  "kernelspec": {
   "display_name": "Python 3 (ipykernel)",
   "language": "python",
   "name": "python3"
  },
  "language_info": {
   "codemirror_mode": {
    "name": "ipython",
    "version": 3
   },
   "file_extension": ".py",
   "mimetype": "text/x-python",
   "name": "python",
   "nbconvert_exporter": "python",
   "pygments_lexer": "ipython3",
   "version": "3.9.13"
  }
 },
 "nbformat": 4,
 "nbformat_minor": 5
}
