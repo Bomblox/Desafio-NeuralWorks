{
 "cells": [
  {
   "cell_type": "markdown",
   "id": "413d2d96",
   "metadata": {},
   "source": [
    "### 2. Implementa cambios sobre el modelo escogiendo la o las técnicas que prefieras buscando mejorar los resultados. Te recomendamos dejar los intentos que no lograron mejorar los resultados. "
   ]
  },
  {
   "cell_type": "markdown",
   "id": "df490b94",
   "metadata": {},
   "source": [
    "-----------------------------------------------------"
   ]
  },
  {
   "cell_type": "markdown",
   "id": "b2bf53cc",
   "metadata": {},
   "source": [
    "### 4. Automatiza el proceso de build y deploy de la API, utilizando uno o varios servicios cloud. Argumenta tu decisión sobre los servicios utilizados.\n"
   ]
  },
  {
   "cell_type": "markdown",
   "id": "6fbb4d91",
   "metadata": {},
   "source": [
    "### 5. Realiza pruebas de estrés a la API con el modelo expuesto con al menos 50.000 requests durante 45 segundos. Para esto debes utilizar esta herramienta: https://github.com/wg/wrk y presentar las métricas obtenidas. ¿Cómo podrías mejorar el performance de las pruebas anteriores?"
   ]
  }
 ],
 "metadata": {
  "kernelspec": {
   "display_name": "Python 3 (ipykernel)",
   "language": "python",
   "name": "python3"
  },
  "language_info": {
   "codemirror_mode": {
    "name": "ipython",
    "version": 3
   },
   "file_extension": ".py",
   "mimetype": "text/x-python",
   "name": "python",
   "nbconvert_exporter": "python",
   "pygments_lexer": "ipython3",
   "version": "3.9.13"
  }
 },
 "nbformat": 4,
 "nbformat_minor": 5
}
